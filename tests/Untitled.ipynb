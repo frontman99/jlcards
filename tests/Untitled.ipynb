{
 "cells": [
  {
   "cell_type": "markdown",
   "id": "6041e10c-8316-454d-80b2-e45a455dd724",
   "metadata": {
    "tags": []
   },
   "source": [
    "<!-- @md-modelname -->\n",
    "\n",
    "<!-- /md-modelname -->"
   ]
  },
  {
   "cell_type": "code",
   "execution_count": null,
   "id": "5cb621d3-8e8d-4753-b2cf-caa9e1157a3f",
   "metadata": {
    "tags": []
   },
   "outputs": [],
   "source": []
  }
 ],
 "metadata": {
  "kernelspec": {
   "display_name": "Python 3",
   "language": "python",
   "name": "python3"
  },
  "language_info": {
   "codemirror_mode": {
    "name": "ipython",
    "version": 3
   },
   "file_extension": ".py",
   "mimetype": "text/x-python",
   "name": "python",
   "nbconvert_exporter": "python",
   "pygments_lexer": "ipython3",
   "version": "3.9.5"
  }
 },
 "nbformat": 4,
 "nbformat_minor": 5
}
